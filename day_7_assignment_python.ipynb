{
 "cells": [
  {
   "cell_type": "markdown",
   "metadata": {},
   "source": [
    "## ASSIGNMENT-7"
   ]
  },
  {
   "cell_type": "markdown",
   "metadata": {},
   "source": [
    "### Question 1 :"
   ]
  },
  {
   "cell_type": "markdown",
   "metadata": {},
   "source": [
    "Use the dictionary,\n",
    "- port1 = {21: \"FTP\", 22:\"SSH\", 23: \"telnet\", 80: \"http\"},\n",
    "and make a new dictionary in which keys become values and values become keys,\n",
    "- as shown: Port2 = {“FTP\":21, \"SSH\":22, “telnet\":23,\"http\": 80}"
   ]
  },
  {
   "cell_type": "code",
   "execution_count": 1,
   "metadata": {},
   "outputs": [
    {
     "name": "stdout",
     "output_type": "stream",
     "text": [
      "the input dictionary:  {21: 'FTP', 22: 'SSH', 23: 'telnet', 80: 'http'}\n"
     ]
    }
   ],
   "source": [
    "port1 = {21: \"FTP\", 22:\"SSH\", 23: \"telnet\", 80: \"http\"}\n",
    "print(\"the input dictionary: \",port1)"
   ]
  },
  {
   "cell_type": "code",
   "execution_count": 2,
   "metadata": {},
   "outputs": [],
   "source": [
    "p2= list(port1.values())"
   ]
  },
  {
   "cell_type": "code",
   "execution_count": 3,
   "metadata": {},
   "outputs": [],
   "source": [
    "p3=list(port1.keys())"
   ]
  },
  {
   "cell_type": "code",
   "execution_count": 4,
   "metadata": {},
   "outputs": [
    {
     "name": "stdout",
     "output_type": "stream",
     "text": [
      "the new dictionary after swapping keys and values:  {'FTP': 21, 'SSH': 22, 'telnet': 23, 'http': 80}\n"
     ]
    }
   ],
   "source": [
    "p4={p2[i]:p3[j] for i in range(len(p3)) for j in range(len(p2)) if i==j }\n",
    "print(\"the new dictionary after swapping keys and values: \",p4)"
   ]
  },
  {
   "cell_type": "markdown",
   "metadata": {},
   "source": [
    "### Question 2:"
   ]
  },
  {
   "cell_type": "markdown",
   "metadata": {},
   "source": [
    "Take a list of tuple as shown below.\n",
    "- [(1,2), (3,4), (5,6),(4,5)]\n",
    "-Make a new list which contains the sum of the number of tuples.\n",
    "For example\n",
    "- Input: \n",
    "[(1,2), (3,4), (5,6)]\n",
    "- Output:\n",
    "[3, 7, 11]"
   ]
  },
  {
   "cell_type": "code",
   "execution_count": 5,
   "metadata": {},
   "outputs": [
    {
     "name": "stdout",
     "output_type": "stream",
     "text": [
      "input:  [(1, 2), (3, 4), (5, 6)]\n"
     ]
    }
   ],
   "source": [
    "a=[(1,2),(3,4),(5,6)]\n",
    "print(\"input: \",a)"
   ]
  },
  {
   "cell_type": "code",
   "execution_count": 6,
   "metadata": {},
   "outputs": [],
   "source": [
    "o=[x+y for (x,y) in a]"
   ]
  },
  {
   "cell_type": "code",
   "execution_count": 7,
   "metadata": {},
   "outputs": [
    {
     "name": "stdout",
     "output_type": "stream",
     "text": [
      "output:  [3, 7, 11]\n"
     ]
    }
   ],
   "source": [
    "print(\"output: \",o)"
   ]
  },
  {
   "cell_type": "markdown",
   "metadata": {},
   "source": [
    "### Question 3:"
   ]
  },
  {
   "cell_type": "markdown",
   "metadata": {},
   "source": [
    "Take a list as shown below\n",
    "- [(1,2,3), [1,2], ['a','hit','less']]\n",
    "-The List contains tuple and lists. Make the elements of inner lists and tuples to outer list\n"
   ]
  },
  {
   "cell_type": "code",
   "execution_count": 8,
   "metadata": {},
   "outputs": [],
   "source": [
    "a=[(1,2,3), [1,2], ['a','hit','less']] "
   ]
  },
  {
   "cell_type": "code",
   "execution_count": 9,
   "metadata": {},
   "outputs": [
    {
     "name": "stdout",
     "output_type": "stream",
     "text": [
      "[1, 2, 3, 1, 2, 'a', 'hit', 'less']\n"
     ]
    }
   ],
   "source": [
    "o=[]\n",
    "for i in a:\n",
    "    o.extend(i)\n",
    "print(o)"
   ]
  },
  {
   "cell_type": "code",
   "execution_count": null,
   "metadata": {},
   "outputs": [],
   "source": []
  }
 ],
 "metadata": {
  "kernelspec": {
   "display_name": "Python 3",
   "language": "python",
   "name": "python3"
  },
  "language_info": {
   "codemirror_mode": {
    "name": "ipython",
    "version": 3
   },
   "file_extension": ".py",
   "mimetype": "text/x-python",
   "name": "python",
   "nbconvert_exporter": "python",
   "pygments_lexer": "ipython3",
   "version": "3.7.6"
  }
 },
 "nbformat": 4,
 "nbformat_minor": 4
}
