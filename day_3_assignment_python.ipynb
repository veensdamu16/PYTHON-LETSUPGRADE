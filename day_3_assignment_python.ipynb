{
 "cells": [
  {
   "cell_type": "markdown",
   "metadata": {},
   "source": [
    "### Assignment-3"
   ]
  },
  {
   "cell_type": "code",
   "execution_count": 1,
   "metadata": {},
   "outputs": [
    {
     "name": "stdout",
     "output_type": "stream",
     "text": [
      "enter the number : 10\n",
      "1 ---> 1\n",
      "2 ---> 3\n",
      "3 ---> 6\n",
      "4 ---> 10\n",
      "5 ---> 15\n",
      "6 ---> 21\n",
      "7 ---> 28\n",
      "8 ---> 36\n",
      "9 ---> 45\n",
      "10 ---> 55\n"
     ]
    }
   ],
   "source": [
    "# 1.\n",
    "#sum  of n numbers using while loop\n",
    "\n",
    "n=int(input(\"enter the number : \"))\n",
    "i=1;sum=0;\n",
    "while(i < n+1):\n",
    "    sum=sum+ i\n",
    "    print(i,\"--->\",sum)\n",
    "    i=i+1;"
   ]
  },
  {
   "cell_type": "code",
   "execution_count": 2,
   "metadata": {},
   "outputs": [
    {
     "name": "stdout",
     "output_type": "stream",
     "text": [
      "enter the number: 7\n",
      "7 is prime \n"
     ]
    }
   ],
   "source": [
    "# 2.\n",
    "#take integer and find if it is prime or not\n",
    "\n",
    "num=int(input(\"enter the number: \"))\n",
    "\n",
    "if((num==0) or (num==1)):\n",
    "    print(f\"{num} is neither prime nor composite\")\n",
    "else:\n",
    "    for i in range(2,num):\n",
    "         if(num%i==0):\n",
    "                print(f\"{num} is not prime\")\n",
    "                break\n",
    "    else:\n",
    "        print(f\"{num} is prime \")"
   ]
  }
 ],
 "metadata": {
  "kernelspec": {
   "display_name": "Python 3",
   "language": "python",
   "name": "python3"
  },
  "language_info": {
   "codemirror_mode": {
    "name": "ipython",
    "version": 3
   },
   "file_extension": ".py",
   "mimetype": "text/x-python",
   "name": "python",
   "nbconvert_exporter": "python",
   "pygments_lexer": "ipython3",
   "version": "3.7.6"
  }
 },
 "nbformat": 4,
 "nbformat_minor": 4
}
