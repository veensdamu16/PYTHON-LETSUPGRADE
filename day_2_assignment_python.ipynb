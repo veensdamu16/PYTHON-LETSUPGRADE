{
 "cells": [
  {
   "cell_type": "code",
   "execution_count": 1,
   "metadata": {},
   "outputs": [
    {
     "name": "stdout",
     "output_type": "stream",
     "text": [
      "hello how are you\n"
     ]
    }
   ],
   "source": [
    "#Backslash---> used to continue\n",
    "\n",
    "print(\"hello \\\n",
    "how are you\")"
   ]
  },
  {
   "cell_type": "code",
   "execution_count": 2,
   "metadata": {},
   "outputs": [
    {
     "name": "stdout",
     "output_type": "stream",
     "text": [
      " hello everyone \n",
      "\n",
      "( ' o ' )\n",
      "(\"\")-(\"\")\n",
      "(\"'\")-(\"'\")\n",
      "\n",
      "\n"
     ]
    }
   ],
   "source": [
    "#Triple quote\n",
    "\n",
    "print(\"\"\" hello everyone \n",
    "\n",
    "( ' o ' )\n",
    "(\"\")-(\"\")\n",
    "(\"'\")-(\"'\")\n",
    "\n",
    "\"\"\")"
   ]
  },
  {
   "cell_type": "code",
   "execution_count": 3,
   "metadata": {},
   "outputs": [
    {
     "data": {
      "text/plain": [
       "' hello everyone \\n\\n( \\' o \\' )\\n(\"\")-(\"\")\\n(\"\\'\")-(\"\\'\")\\n\\n'"
      ]
     },
     "execution_count": 3,
     "metadata": {},
     "output_type": "execute_result"
    }
   ],
   "source": [
    "\"\"\" hello everyone \n",
    "\n",
    "( ' o ' )\n",
    "(\"\")-(\"\")\n",
    "(\"'\")-(\"'\")\n",
    "\n",
    "\"\"\""
   ]
  },
  {
   "cell_type": "code",
   "execution_count": 4,
   "metadata": {},
   "outputs": [
    {
     "name": "stdout",
     "output_type": "stream",
     "text": [
      "hello world\n",
      "hello world\n"
     ]
    }
   ],
   "source": [
    "#String inside the quotes\n",
    "print(\"hello world\")\n",
    "print('hello world')\n"
   ]
  },
  {
   "cell_type": "code",
   "execution_count": 5,
   "metadata": {},
   "outputs": [
    {
     "ename": "SyntaxError",
     "evalue": "invalid syntax (<ipython-input-5-c5526da1b22f>, line 1)",
     "output_type": "error",
     "traceback": [
      "\u001b[1;36m  File \u001b[1;32m\"<ipython-input-5-c5526da1b22f>\"\u001b[1;36m, line \u001b[1;32m1\u001b[0m\n\u001b[1;33m    print('python's world') # gives error, so use only single quote inside double quote or vice versa.\u001b[0m\n\u001b[1;37m                  ^\u001b[0m\n\u001b[1;31mSyntaxError\u001b[0m\u001b[1;31m:\u001b[0m invalid syntax\n"
     ]
    }
   ],
   "source": [
    "print('python's world') # gives error, so use only single quote inside double quote or vice versa.\n"
   ]
  },
  {
   "cell_type": "code",
   "execution_count": 6,
   "metadata": {},
   "outputs": [
    {
     "name": "stdout",
     "output_type": "stream",
     "text": [
      "python's world\n",
      "python\"s world\n"
     ]
    }
   ],
   "source": [
    "print(\"python's world\")#single quote inside double quote\n",
    "print('python\"s world')#double quote inside single quote\n"
   ]
  },
  {
   "cell_type": "code",
   "execution_count": 7,
   "metadata": {},
   "outputs": [
    {
     "name": "stdout",
     "output_type": "stream",
     "text": [
      "hello\n",
      "world\n"
     ]
    }
   ],
   "source": [
    "print(\"hello\\nworld\") #new line or seperator"
   ]
  },
  {
   "cell_type": "code",
   "execution_count": 8,
   "metadata": {},
   "outputs": [
    {
     "name": "stdout",
     "output_type": "stream",
     "text": [
      "hello\u0007world\n"
     ]
    }
   ],
   "source": [
    "print(\"hello\\aworld\") #gives alarm beep when run in shell and not in jupyter."
   ]
  },
  {
   "cell_type": "code",
   "execution_count": 9,
   "metadata": {},
   "outputs": [
    {
     "name": "stdout",
     "output_type": "stream",
     "text": [
      "python's world\n"
     ]
    }
   ],
   "source": [
    "#escaping sequence of string\n",
    "print('python\\'s world')"
   ]
  },
  {
   "cell_type": "code",
   "execution_count": 10,
   "metadata": {},
   "outputs": [
    {
     "name": "stdout",
     "output_type": "stream",
     "text": [
      "the random values of a,b are 123 and 3.4567\n",
      "the random values of a,b are 123 and 3.456700\n",
      "the     random values of a,b are   123 and   3.456700\n",
      "the random values of a,b are 123 and 3.46\n",
      "the random values of a,b are 123 and 3.4567\n"
     ]
    }
   ],
   "source": [
    "#formatted output\n",
    "\n",
    "a=123\n",
    "b=3.4567\n",
    "c=\"random\"\n",
    "\n",
    "##using ,\n",
    "\n",
    "print(\"the\",c,\"values of a,b are\",a,\"and\",b)\n",
    "\n",
    "##using %\n",
    "\n",
    "print(\"the %s values of a,b are %d and %f\"%(c,a,b))\n",
    "\n",
    "# we can specify the spaces using integer value after %\n",
    "print(\"the %10s values of a,b are %5d and %10f\"%(c,a,b))\n",
    "\n",
    "# we can round the float value using .nf to round to n values.\n",
    "#(i.e)to round to 2 values we can use .2f\n",
    "print(\"the %s values of a,b are %d and %.2f\"%(c,a,b))\n",
    "\n",
    "\n",
    "##using f\n",
    "print(f\"the {c} values of a,b are {a} and {b}\")\n"
   ]
  },
  {
   "cell_type": "code",
   "execution_count": 11,
   "metadata": {},
   "outputs": [
    {
     "ename": "SyntaxError",
     "evalue": "invalid syntax (<ipython-input-11-e82716841813>, line 4)",
     "output_type": "error",
     "traceback": [
      "\u001b[1;36m  File \u001b[1;32m\"<ipython-input-11-e82716841813>\"\u001b[1;36m, line \u001b[1;32m4\u001b[0m\n\u001b[1;33m    if = 3\u001b[0m\n\u001b[1;37m       ^\u001b[0m\n\u001b[1;31mSyntaxError\u001b[0m\u001b[1;31m:\u001b[0m invalid syntax\n"
     ]
    }
   ],
   "source": [
    "##rules to define a variable:\n",
    "\n",
    "# cant use keywords for a variable name\n",
    "if = 3"
   ]
  },
  {
   "cell_type": "code",
   "execution_count": 12,
   "metadata": {},
   "outputs": [],
   "source": [
    "# can include upper case, lower case, numbers , underscore\n",
    "hEllo_=3"
   ]
  },
  {
   "cell_type": "code",
   "execution_count": 13,
   "metadata": {},
   "outputs": [
    {
     "name": "stdout",
     "output_type": "stream",
     "text": [
      "9\n"
     ]
    }
   ],
   "source": [
    "_hi=9 #but not recommended\n",
    "print(_hi)"
   ]
  },
  {
   "cell_type": "code",
   "execution_count": 14,
   "metadata": {},
   "outputs": [
    {
     "ename": "SyntaxError",
     "evalue": "invalid syntax (<ipython-input-14-2094b0ab3a8f>, line 1)",
     "output_type": "error",
     "traceback": [
      "\u001b[1;36m  File \u001b[1;32m\"<ipython-input-14-2094b0ab3a8f>\"\u001b[1;36m, line \u001b[1;32m1\u001b[0m\n\u001b[1;33m    @hi=9\u001b[0m\n\u001b[1;37m       ^\u001b[0m\n\u001b[1;31mSyntaxError\u001b[0m\u001b[1;31m:\u001b[0m invalid syntax\n"
     ]
    }
   ],
   "source": [
    "@hi=9"
   ]
  },
  {
   "cell_type": "code",
   "execution_count": 15,
   "metadata": {},
   "outputs": [
    {
     "name": "stdout",
     "output_type": "stream",
     "text": [
      "a:  3\n",
      "A:  5\n"
     ]
    }
   ],
   "source": [
    "# python is case sensitive\n",
    "a=3\n",
    "A=5\n",
    "print(\"a: \",a)\n",
    "print(\"A: \",A)"
   ]
  },
  {
   "cell_type": "code",
   "execution_count": 16,
   "metadata": {},
   "outputs": [
    {
     "ename": "SyntaxError",
     "evalue": "invalid syntax (<ipython-input-16-9fe16c35c590>, line 2)",
     "output_type": "error",
     "traceback": [
      "\u001b[1;36m  File \u001b[1;32m\"<ipython-input-16-9fe16c35c590>\"\u001b[1;36m, line \u001b[1;32m2\u001b[0m\n\u001b[1;33m    1sky=\"blue\"\u001b[0m\n\u001b[1;37m       ^\u001b[0m\n\u001b[1;31mSyntaxError\u001b[0m\u001b[1;31m:\u001b[0m invalid syntax\n"
     ]
    }
   ],
   "source": [
    "#variable cant start with a number\n",
    "1sky=\"blue\""
   ]
  },
  {
   "cell_type": "code",
   "execution_count": 17,
   "metadata": {},
   "outputs": [],
   "source": [
    "#multiple assignment\n",
    "x=y=20"
   ]
  },
  {
   "cell_type": "code",
   "execution_count": 18,
   "metadata": {},
   "outputs": [
    {
     "data": {
      "text/plain": [
       "140734125614064"
      ]
     },
     "execution_count": 18,
     "metadata": {},
     "output_type": "execute_result"
    }
   ],
   "source": [
    "id(x) #id() gives the ram address in the memory"
   ]
  },
  {
   "cell_type": "code",
   "execution_count": 19,
   "metadata": {},
   "outputs": [
    {
     "data": {
      "text/plain": [
       "140734125614064"
      ]
     },
     "execution_count": 19,
     "metadata": {},
     "output_type": "execute_result"
    }
   ],
   "source": [
    "id(y)"
   ]
  },
  {
   "cell_type": "code",
   "execution_count": 20,
   "metadata": {},
   "outputs": [],
   "source": [
    "del x"
   ]
  },
  {
   "cell_type": "code",
   "execution_count": 21,
   "metadata": {},
   "outputs": [
    {
     "ename": "NameError",
     "evalue": "name 'x' is not defined",
     "output_type": "error",
     "traceback": [
      "\u001b[1;31m---------------------------------------------------------------------------\u001b[0m",
      "\u001b[1;31mNameError\u001b[0m                                 Traceback (most recent call last)",
      "\u001b[1;32m<ipython-input-21-fc17d851ef81>\u001b[0m in \u001b[0;36m<module>\u001b[1;34m\u001b[0m\n\u001b[1;32m----> 1\u001b[1;33m \u001b[0mprint\u001b[0m\u001b[1;33m(\u001b[0m\u001b[0mx\u001b[0m\u001b[1;33m)\u001b[0m\u001b[1;33m\u001b[0m\u001b[1;33m\u001b[0m\u001b[0m\n\u001b[0m",
      "\u001b[1;31mNameError\u001b[0m: name 'x' is not defined"
     ]
    }
   ],
   "source": [
    "print(x)"
   ]
  },
  {
   "cell_type": "code",
   "execution_count": 22,
   "metadata": {},
   "outputs": [
    {
     "name": "stdout",
     "output_type": "stream",
     "text": [
      "20\n"
     ]
    }
   ],
   "source": [
    "print(y) # deleting x will only delete the pointer of the variable to the value in the memory."
   ]
  },
  {
   "cell_type": "markdown",
   "metadata": {},
   "source": [
    "# Types of operators:\n",
    "\n",
    "1) Arithmetic operator\n",
    "\n",
    "2) Comparision operator\n",
    "\n",
    "3) Assignment operator\n",
    "\n",
    "4) Bitwise operator\n",
    "\n",
    "5) Logical operator\n",
    "\n",
    "6) Membership operator\n",
    "\n",
    "7) Identity operator"
   ]
  },
  {
   "cell_type": "code",
   "execution_count": 23,
   "metadata": {},
   "outputs": [
    {
     "name": "stdout",
     "output_type": "stream",
     "text": [
      "8\n",
      "5\n",
      "-1\n",
      "6\n",
      "0.6666666666666666\n",
      "1\n",
      "1\n",
      "2\n"
     ]
    }
   ],
   "source": [
    "#1) Arithmetic operator\n",
    "\n",
    "print(2**3)# exponential\n",
    "\n",
    "print(2+3)# addition\n",
    "\n",
    "print(2-3)# subtraction\n",
    "\n",
    "print(2*3)# multiplication\n",
    "\n",
    "print(2/3)# division\n",
    "\n",
    "print(3//2)# floor division\n",
    "\n",
    "print(3%2)# modulo-->gives remainder\n",
    "\n",
    "print(2%3)\n"
   ]
  },
  {
   "cell_type": "code",
   "execution_count": 24,
   "metadata": {},
   "outputs": [
    {
     "name": "stdout",
     "output_type": "stream",
     "text": [
      "False\n",
      "True\n",
      "False\n",
      "True\n",
      "False\n",
      "True\n",
      "True\n"
     ]
    }
   ],
   "source": [
    "#2)comparision operator\n",
    "\n",
    "a=10;b=15;c=10\n",
    "\n",
    "print(a==b)\n",
    "print(a==c)\n",
    "print(a>b)\n",
    "print(a<b)\n",
    "print(a>=b)\n",
    "print(a<=b)\n",
    "print(a!=b)\n"
   ]
  },
  {
   "cell_type": "code",
   "execution_count": 25,
   "metadata": {},
   "outputs": [
    {
     "name": "stdout",
     "output_type": "stream",
     "text": [
      "30\n",
      "30\n"
     ]
    }
   ],
   "source": [
    "#3)Assignment operator \n",
    "\n",
    "a=10;b=20\n",
    "a+=b\n",
    "print(a)\n",
    "\n",
    "#\n",
    "a=10;b=20\n",
    "a=a+b\n",
    "print(a)"
   ]
  },
  {
   "cell_type": "code",
   "execution_count": 26,
   "metadata": {},
   "outputs": [],
   "source": [
    "a+=b"
   ]
  },
  {
   "cell_type": "code",
   "execution_count": 27,
   "metadata": {},
   "outputs": [
    {
     "name": "stdout",
     "output_type": "stream",
     "text": [
      "0b11110000\n",
      "0b1\n",
      "241\n",
      "0\n"
     ]
    }
   ],
   "source": [
    "#4)Bitwise operators\n",
    "\n",
    "a=240;b=1\n",
    "\n",
    "print(bin(a))\n",
    "print(bin(b))\n",
    "\n",
    "print(a | b)#bitwise or\n",
    "\n",
    "print(a & b)#bitwise and\n"
   ]
  },
  {
   "cell_type": "raw",
   "metadata": {},
   "source": [
    "#5)logical operators\n",
    "\n",
    "## or TABLE ##\n",
    "\n",
    "T or T = T\n",
    "T or F = T\n",
    "F or T = T\n",
    "F or F = F"
   ]
  },
  {
   "cell_type": "raw",
   "metadata": {},
   "source": [
    "## and TABLE ##\n",
    "\n",
    "F and T = F # NOTE THAT and WILL ONLY CHECK THE FIRST PART AND GIVES THE OUTPUT NEGLECTING SECOND PART\n",
    "F and F = F\n",
    "T and F = F \n",
    "T and T = T"
   ]
  },
  {
   "cell_type": "code",
   "execution_count": 28,
   "metadata": {},
   "outputs": [
    {
     "name": "stdout",
     "output_type": "stream",
     "text": [
      "False\n"
     ]
    },
    {
     "ename": "NameError",
     "evalue": "name 't' is not defined",
     "output_type": "error",
     "traceback": [
      "\u001b[1;31m---------------------------------------------------------------------------\u001b[0m",
      "\u001b[1;31mNameError\u001b[0m                                 Traceback (most recent call last)",
      "\u001b[1;32m<ipython-input-28-ccbbbe84d4e7>\u001b[0m in \u001b[0;36m<module>\u001b[1;34m\u001b[0m\n\u001b[0;32m      2\u001b[0m \u001b[1;33m\u001b[0m\u001b[0m\n\u001b[0;32m      3\u001b[0m \u001b[0mprint\u001b[0m\u001b[1;33m(\u001b[0m\u001b[0ma\u001b[0m\u001b[1;33m>\u001b[0m\u001b[0mb\u001b[0m \u001b[1;32mand\u001b[0m \u001b[0ma\u001b[0m\u001b[1;33m<\u001b[0m\u001b[0mt\u001b[0m\u001b[1;33m)\u001b[0m \u001b[1;31m# since a>b is False it wont check a>t and hence doesnt give error\u001b[0m\u001b[1;33m\u001b[0m\u001b[1;33m\u001b[0m\u001b[0m\n\u001b[1;32m----> 4\u001b[1;33m \u001b[0mprint\u001b[0m\u001b[1;33m(\u001b[0m\u001b[0ma\u001b[0m\u001b[1;33m<\u001b[0m\u001b[0mb\u001b[0m \u001b[1;32mand\u001b[0m \u001b[0ma\u001b[0m\u001b[1;33m>\u001b[0m\u001b[0mt\u001b[0m\u001b[1;33m)\u001b[0m \u001b[1;31m#but here a<b is True hence it will check second part a>t and t doesnt exist so gives error.\u001b[0m\u001b[1;33m\u001b[0m\u001b[1;33m\u001b[0m\u001b[0m\n\u001b[0m",
      "\u001b[1;31mNameError\u001b[0m: name 't' is not defined"
     ]
    }
   ],
   "source": [
    "a=10;b=20;c=15\n",
    "\n",
    "print(a>b and a<t) # since a>b is False it wont check a>t and hence doesnt give error\n",
    "print(a<b and a>t) #but here a<b is True hence it will check second part a>t and t doesnt exist so gives error."
   ]
  },
  {
   "cell_type": "code",
   "execution_count": 29,
   "metadata": {},
   "outputs": [
    {
     "name": "stdout",
     "output_type": "stream",
     "text": [
      "True\n",
      "False\n",
      "False\n",
      "True\n"
     ]
    }
   ],
   "source": [
    "#6)membership operators:\n",
    "\n",
    "s=\"hello\"\n",
    "\n",
    "#in\n",
    "print(\"e\" in s)\n",
    "print(\"a\" in s)\n",
    "\n",
    "#not in \n",
    "print(\"e\" not in s)\n",
    "print(\"a\" not in s)"
   ]
  },
  {
   "cell_type": "code",
   "execution_count": 30,
   "metadata": {},
   "outputs": [
    {
     "name": "stdout",
     "output_type": "stream",
     "text": [
      "False\n",
      "True\n"
     ]
    }
   ],
   "source": [
    "#7)identity operator\n",
    "a=10\n",
    "b=20\n",
    "c=10\n",
    "\n",
    "print(a is b)\n",
    "print(a is not b)"
   ]
  },
  {
   "cell_type": "code",
   "execution_count": 31,
   "metadata": {},
   "outputs": [
    {
     "data": {
      "text/plain": [
       "5"
      ]
     },
     "execution_count": 31,
     "metadata": {},
     "output_type": "execute_result"
    }
   ],
   "source": [
    "# OPERATOR PRECEDENCE(PEMDAS)\n",
    "\n",
    "# Operators in the same box group left to right\n",
    "\n",
    "10+10/29*4\n",
    "\n",
    "#Exponential groups from right to left\n",
    "\n",
    "1+2**(-1+3)"
   ]
  },
  {
   "cell_type": "raw",
   "metadata": {},
   "source": [
    "## -5 to 256, same memory address allocated to the numbers in this range.\n",
    "outside this range different address is allocated"
   ]
  },
  {
   "cell_type": "code",
   "execution_count": 32,
   "metadata": {},
   "outputs": [
    {
     "name": "stdout",
     "output_type": "stream",
     "text": [
      "a:  1602728895312\n",
      "b:  1602728894512\n",
      "c:  140734125614704\n",
      "d:  140734125614704\n"
     ]
    }
   ],
   "source": [
    "a=-6\n",
    "b=-6\n",
    "c=40\n",
    "d=40\n",
    "print(\"a: \",id(a)) #outside range of -5 to 256\n",
    "print(\"b: \",id(b)) #outside range of -5 to 256\n",
    "print(\"c: \",id(c)) #inside range of -5 to 256\n",
    "print(\"d: \",id(d)) #inside range of -5 to 256"
   ]
  },
  {
   "cell_type": "raw",
   "metadata": {},
   "source": [
    "7>8>9 means 7>8 and 8>9"
   ]
  }
 ],
 "metadata": {
  "kernelspec": {
   "display_name": "Python 3",
   "language": "python",
   "name": "python3"
  },
  "language_info": {
   "codemirror_mode": {
    "name": "ipython",
    "version": 3
   },
   "file_extension": ".py",
   "mimetype": "text/x-python",
   "name": "python",
   "nbconvert_exporter": "python",
   "pygments_lexer": "ipython3",
   "version": "3.7.6"
  }
 },
 "nbformat": 4,
 "nbformat_minor": 4
}
