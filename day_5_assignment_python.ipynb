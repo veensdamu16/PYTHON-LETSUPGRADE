{
 "cells": [
  {
   "cell_type": "markdown",
   "metadata": {},
   "source": [
    "## Assignment-5"
   ]
  },
  {
   "cell_type": "markdown",
   "metadata": {},
   "source": [
    "### Question 1 :"
   ]
  },
  {
   "cell_type": "markdown",
   "metadata": {},
   "source": [
    "- [0,1,2,10,4,1,0,56,2,0,1,3,0,56,0,4]\n",
    "- Sort by increasing order but all zeros should be at the right hand side."
   ]
  },
  {
   "cell_type": "code",
   "execution_count": 1,
   "metadata": {},
   "outputs": [
    {
     "name": "stdout",
     "output_type": "stream",
     "text": [
      "the required output:  [1, 1, 1, 2, 2, 3, 4, 4, 10, 56, 56, 0, 0, 0, 0, 0]\n"
     ]
    }
   ],
   "source": [
    "l=[0,1,2,10,4,1,0,56,2,0,1,3,0,56,0,4]\n",
    "l.sort()\n",
    "\n",
    "l1=[];l2=[]\n",
    "\n",
    "for i in l:\n",
    "    if (i==0):\n",
    "        l1.append(i)\n",
    "    else:\n",
    "        l2.append(i)\n",
    "        \n",
    "l2.extend(l1)\n",
    "print(\"the required output: \",l2)"
   ]
  },
  {
   "cell_type": "markdown",
   "metadata": {},
   "source": [
    "### Question 2 :"
   ]
  },
  {
   "cell_type": "markdown",
   "metadata": {},
   "source": [
    "- list1=[10,20,40,60,70,80] sorted list\n",
    "- list2=[5,15,25,35,45,60] sorted list\n",
    "- Merge these two sorted lists to produce one sorted list, but use only loop either while or for only one time."
   ]
  },
  {
   "cell_type": "code",
   "execution_count": 2,
   "metadata": {},
   "outputs": [],
   "source": [
    "list1=[10,20,40,60,70,80] \n",
    "list2=[5,15,25,35,45,60]"
   ]
  },
  {
   "cell_type": "code",
   "execution_count": 3,
   "metadata": {},
   "outputs": [],
   "source": [
    "l=len(list2)+len(list1)"
   ]
  },
  {
   "cell_type": "code",
   "execution_count": 4,
   "metadata": {},
   "outputs": [
    {
     "name": "stdout",
     "output_type": "stream",
     "text": [
      "the required list:  [5, 10, 15, 20, 25, 35, 40, 45, 60, 60, 70, 80]\n"
     ]
    }
   ],
   "source": [
    "j=0;l3=[];k=0;\n",
    "for i in range(l):\n",
    "    \n",
    "    if(j<len(list1) and k<len(list2)):\n",
    "        if(list1[j]>list2[k]):\n",
    "            l3.append(list2[k])\n",
    "            k=k+1\n",
    "        elif(list1[j]<list2[k]):\n",
    "            l3.append(list1[j])\n",
    "            j=j+1\n",
    "        elif(list1[j]==list2[k]):\n",
    "            l3.append(list1[j])\n",
    "            l3.append(list2[k])\n",
    "            j=j+1\n",
    "            k=k+1\n",
    "    elif(max(list1)>max(list2) and j<len(list1)):\n",
    "            l3.append(list1[j])\n",
    "            j=j+1\n",
    "    elif(max(list2)>max(list1) and k<len(list2)):\n",
    "            l3.append(list2[k])\n",
    "            k=k+1\n",
    "else:\n",
    "    print(\"the required list: \",l3)\n",
    "        "
   ]
  },
  {
   "cell_type": "code",
   "execution_count": null,
   "metadata": {},
   "outputs": [],
   "source": []
  }
 ],
 "metadata": {
  "kernelspec": {
   "display_name": "Python 3",
   "language": "python",
   "name": "python3"
  },
  "language_info": {
   "codemirror_mode": {
    "name": "ipython",
    "version": 3
   },
   "file_extension": ".py",
   "mimetype": "text/x-python",
   "name": "python",
   "nbconvert_exporter": "python",
   "pygments_lexer": "ipython3",
   "version": "3.7.6"
  }
 },
 "nbformat": 4,
 "nbformat_minor": 4
}
